{
 "cells": [
  {
   "cell_type": "markdown",
   "metadata": {},
   "source": [
    "# Part I - (Prosper Loan Data Visualization)\n",
    "## by (Michael Nwasunja)\n",
    "\n",
    "## Introduction\n",
    "> Introduce the dataset\n",
    "\n",
    "This data set contains 113,937 loans with 81 variables on each loan, including loan amount, borrower rate (or interest rate), current loan status, borrower income, and many others.\n",
    "Data dictionary to understand the variables more form this link: https://docs.google.com/spreadsheets/d/1gDyi_L4UvIrLTEC6Wri5nbaMmkGmLQBk-Yx3z0XDEtI/edit#gid=0\n",
    "\n",
    "We are trying to answer these questions\n",
    "\n",
    "What factors affect a loan’s outcome status?\n",
    "What affects the borrower’s APR or interest rate?\n",
    "Are there differences between loans depending on how large the original loan amount was?\n",
    "\n",
    "\n",
    "\n",
    "## Preliminary Wrangling\n"
   ]
  },
  {
   "cell_type": "code",
   "execution_count": null,
   "metadata": {},
   "outputs": [],
   "source": [
    "# import all packages and set plots to be embedded inline\n",
    "import numpy as np\n",
    "import pandas as pd\n",
    "import matplotlib.pyplot as plt\n",
    "import seaborn as sb\n",
    "\n",
    "%matplotlib inline"
   ]
  },
  {
   "cell_type": "markdown",
   "metadata": {},
   "source": [
    "> Load in your dataset and describe its properties through the questions below. Try and motivate your exploration goals through this section."
   ]
  },
  {
   "cell_type": "code",
   "execution_count": 20,
   "metadata": {},
   "outputs": [
    {
     "name": "stderr",
     "output_type": "stream",
     "text": [
      "Skipping line 11052: unexpected end of data\n"
     ]
    }
   ],
   "source": [
    "loans = pd.read_csv('prosperLoanData.csv',error_bad_lines=False, engine=\"python\")"
   ]
  },
  {
   "cell_type": "code",
   "execution_count": 26,
   "metadata": {},
   "outputs": [
    {
     "name": "stdout",
     "output_type": "stream",
     "text": [
      "                ListingKey  ListingNumber            ListingCreationDate  \\\n",
      "0  1021339766868145413AB3B         193129  2007-08-26 19:09:29.263000000   \n",
      "1  10273602499503308B223C1        1209647  2014-02-27 08:28:07.900000000   \n",
      "2  0EE9337825851032864889A          81716  2007-01-05 15:00:47.090000000   \n",
      "3  0EF5356002482715299901A         658116  2012-10-22 11:02:35.010000000   \n",
      "4  0F023589499656230C5E3E2         909464  2013-09-14 18:38:39.097000000   \n",
      "\n",
      "  CreditGrade  Term LoanStatus           ClosedDate  BorrowerAPR  \\\n",
      "0           C    36  Completed  2009-08-14 00:00:00      0.16516   \n",
      "1         NaN    36    Current                  NaN      0.12016   \n",
      "2          HR    36  Completed  2009-12-17 00:00:00      0.28269   \n",
      "3         NaN    36    Current                  NaN      0.12528   \n",
      "4         NaN    36    Current                  NaN      0.24614   \n",
      "\n",
      "   BorrowerRate  LenderYield    ...     LP_ServiceFees  LP_CollectionFees  \\\n",
      "0        0.1580       0.1380    ...            -133.18                0.0   \n",
      "1        0.0920       0.0820    ...               0.00                0.0   \n",
      "2        0.2750       0.2400    ...             -24.20                0.0   \n",
      "3        0.0974       0.0874    ...            -108.01                0.0   \n",
      "4        0.2085       0.1985    ...             -60.27                0.0   \n",
      "\n",
      "   LP_GrossPrincipalLoss  LP_NetPrincipalLoss LP_NonPrincipalRecoverypayments  \\\n",
      "0                    0.0                  0.0                             0.0   \n",
      "1                    0.0                  0.0                             0.0   \n",
      "2                    0.0                  0.0                             0.0   \n",
      "3                    0.0                  0.0                             0.0   \n",
      "4                    0.0                  0.0                             0.0   \n",
      "\n",
      "   PercentFunded  Recommendations InvestmentFromFriendsCount  \\\n",
      "0            1.0                0                          0   \n",
      "1            1.0                0                          0   \n",
      "2            1.0                0                          0   \n",
      "3            1.0                0                          0   \n",
      "4            1.0                0                          0   \n",
      "\n",
      "  InvestmentFromFriendsAmount Investors  \n",
      "0                         0.0       258  \n",
      "1                         0.0         1  \n",
      "2                         0.0        41  \n",
      "3                         0.0       158  \n",
      "4                         0.0        20  \n",
      "\n",
      "[5 rows x 81 columns]\n"
     ]
    }
   ],
   "source": [
    "print(loans.head(5))"
   ]
  },
  {
   "cell_type": "code",
   "execution_count": 22,
   "metadata": {},
   "outputs": [
    {
     "name": "stdout",
     "output_type": "stream",
     "text": [
      "(11050, 81)\n"
     ]
    }
   ],
   "source": [
    "print(loans.shape)"
   ]
  },
  {
   "cell_type": "code",
   "execution_count": 25,
   "metadata": {},
   "outputs": [
    {
     "name": "stdout",
     "output_type": "stream",
     "text": [
      "ListingKey                              object\n",
      "ListingNumber                            int64\n",
      "ListingCreationDate                     object\n",
      "CreditGrade                             object\n",
      "Term                                     int64\n",
      "LoanStatus                              object\n",
      "ClosedDate                              object\n",
      "BorrowerAPR                            float64\n",
      "BorrowerRate                           float64\n",
      "LenderYield                            float64\n",
      "EstimatedEffectiveYield                float64\n",
      "EstimatedLoss                          float64\n",
      "EstimatedReturn                        float64\n",
      "ProsperRating (numeric)                float64\n",
      "ProsperRating (Alpha)                   object\n",
      "ProsperScore                           float64\n",
      "ListingCategory (numeric)                int64\n",
      "BorrowerState                           object\n",
      "Occupation                              object\n",
      "EmploymentStatus                        object\n",
      "EmploymentStatusDuration               float64\n",
      "IsBorrowerHomeowner                       bool\n",
      "CurrentlyInGroup                          bool\n",
      "GroupKey                                object\n",
      "DateCreditPulled                        object\n",
      "CreditScoreRangeLower                  float64\n",
      "CreditScoreRangeUpper                  float64\n",
      "FirstRecordedCreditLine                 object\n",
      "CurrentCreditLines                     float64\n",
      "OpenCreditLines                        float64\n",
      "                                        ...   \n",
      "TotalProsperLoans                      float64\n",
      "TotalProsperPaymentsBilled             float64\n",
      "OnTimeProsperPayments                  float64\n",
      "ProsperPaymentsLessThanOneMonthLate    float64\n",
      "ProsperPaymentsOneMonthPlusLate        float64\n",
      "ProsperPrincipalBorrowed               float64\n",
      "ProsperPrincipalOutstanding            float64\n",
      "ScorexChangeAtTimeOfListing            float64\n",
      "LoanCurrentDaysDelinquent                int64\n",
      "LoanFirstDefaultedCycleNumber          float64\n",
      "LoanMonthsSinceOrigination               int64\n",
      "LoanNumber                               int64\n",
      "LoanOriginalAmount                       int64\n",
      "LoanOriginationDate                     object\n",
      "LoanOriginationQuarter                  object\n",
      "MemberKey                               object\n",
      "MonthlyLoanPayment                     float64\n",
      "LP_CustomerPayments                    float64\n",
      "LP_CustomerPrincipalPayments           float64\n",
      "LP_InterestandFees                     float64\n",
      "LP_ServiceFees                         float64\n",
      "LP_CollectionFees                      float64\n",
      "LP_GrossPrincipalLoss                  float64\n",
      "LP_NetPrincipalLoss                    float64\n",
      "LP_NonPrincipalRecoverypayments        float64\n",
      "PercentFunded                          float64\n",
      "Recommendations                          int64\n",
      "InvestmentFromFriendsCount               int64\n",
      "InvestmentFromFriendsAmount            float64\n",
      "Investors                                int64\n",
      "Length: 81, dtype: object\n"
     ]
    }
   ],
   "source": [
    "print(loans.dtypes)"
   ]
  },
  {
   "cell_type": "markdown",
   "metadata": {},
   "source": [
    "Out of the 113937 rows and 81 columns, I am going to select only the columns that are related to our exploration of the loan. I will chose about 15 columns to investigate. These columns are related to the amount of loan, dates, rates and other charactrestics about the borrowers."
   ]
  },
  {
   "cell_type": "code",
   "execution_count": 29,
   "metadata": {},
   "outputs": [
    {
     "name": "stdout",
     "output_type": "stream",
     "text": [
      "<class 'pandas.core.frame.DataFrame'>\n",
      "RangeIndex: 11050 entries, 0 to 11049\n",
      "Data columns (total 22 columns):\n",
      "ListingCreationDate          11050 non-null object\n",
      "Term                         11050 non-null int64\n",
      "LoanStatus                   11050 non-null object\n",
      "ClosedDate                   5324 non-null object\n",
      "BorrowerAPR                  11049 non-null float64\n",
      "BorrowerRate                 11050 non-null float64\n",
      "LenderYield                  11050 non-null float64\n",
      "ProsperRating (Alpha)        8264 non-null object\n",
      "ProsperScore                 8264 non-null float64\n",
      "ListingCategory (numeric)    11050 non-null int64\n",
      "BorrowerState                10523 non-null object\n",
      "Occupation                   10686 non-null object\n",
      "EmploymentStatus             10826 non-null object\n",
      "AmountDelinquent             10328 non-null float64\n",
      "IncomeRange                  11050 non-null object\n",
      "StatedMonthlyIncome          11050 non-null float64\n",
      "LoanCurrentDaysDelinquent    11050 non-null int64\n",
      "LoanOriginalAmount           11050 non-null int64\n",
      "LoanOriginationDate          11050 non-null object\n",
      "MonthlyLoanPayment           11050 non-null float64\n",
      "LP_ServiceFees               11050 non-null float64\n",
      "Investors                    11050 non-null int64\n",
      "dtypes: float64(8), int64(5), object(9)\n",
      "memory usage: 1.9+ MB\n"
     ]
    }
   ],
   "source": [
    "df_loans = loans.loc[:, ['ListingCreationDate', 'Term', 'LoanStatus', 'ClosedDate', 'BorrowerAPR',\n",
    "                         'BorrowerRate', 'LenderYield', 'ProsperRating (Alpha)', 'ProsperScore', 'ListingCategory (numeric)',\n",
    "                         'BorrowerState', 'Occupation', 'EmploymentStatus', 'AmountDelinquent',\n",
    "                         'IncomeRange', 'StatedMonthlyIncome',\n",
    "                         'LoanCurrentDaysDelinquent',\n",
    "                         'LoanOriginalAmount', 'LoanOriginationDate', \n",
    "                         'MonthlyLoanPayment', 'LP_ServiceFees', 'Investors']]\n",
    "df_loans.info()"
   ]
  },
  {
   "cell_type": "code",
   "execution_count": 30,
   "metadata": {},
   "outputs": [
    {
     "data": {
      "text/plain": [
       "0"
      ]
     },
     "execution_count": 30,
     "metadata": {},
     "output_type": "execute_result"
    }
   ],
   "source": [
    "df_loans.duplicated().sum()"
   ]
  },
  {
   "cell_type": "code",
   "execution_count": 31,
   "metadata": {},
   "outputs": [
    {
     "data": {
      "text/plain": [
       "ListingCreationDate             0\n",
       "Term                            0\n",
       "LoanStatus                      0\n",
       "ClosedDate                   5726\n",
       "BorrowerAPR                     1\n",
       "BorrowerRate                    0\n",
       "LenderYield                     0\n",
       "ProsperRating (Alpha)        2786\n",
       "ProsperScore                 2786\n",
       "ListingCategory (numeric)       0\n",
       "BorrowerState                 527\n",
       "Occupation                    364\n",
       "EmploymentStatus              224\n",
       "AmountDelinquent              722\n",
       "IncomeRange                     0\n",
       "StatedMonthlyIncome             0\n",
       "LoanCurrentDaysDelinquent       0\n",
       "LoanOriginalAmount              0\n",
       "LoanOriginationDate             0\n",
       "MonthlyLoanPayment              0\n",
       "LP_ServiceFees                  0\n",
       "Investors                       0\n",
       "dtype: int64"
      ]
     },
     "execution_count": 31,
     "metadata": {},
     "output_type": "execute_result"
    }
   ],
   "source": [
    "df_loans.isnull().sum()"
   ]
  },
  {
   "cell_type": "code",
   "execution_count": 32,
   "metadata": {
    "scrolled": true
   },
   "outputs": [
    {
     "data": {
      "text/html": [
       "<div>\n",
       "<style scoped>\n",
       "    .dataframe tbody tr th:only-of-type {\n",
       "        vertical-align: middle;\n",
       "    }\n",
       "\n",
       "    .dataframe tbody tr th {\n",
       "        vertical-align: top;\n",
       "    }\n",
       "\n",
       "    .dataframe thead th {\n",
       "        text-align: right;\n",
       "    }\n",
       "</style>\n",
       "<table border=\"1\" class=\"dataframe\">\n",
       "  <thead>\n",
       "    <tr style=\"text-align: right;\">\n",
       "      <th></th>\n",
       "      <th>ListingCreationDate</th>\n",
       "      <th>Term</th>\n",
       "      <th>LoanStatus</th>\n",
       "      <th>ClosedDate</th>\n",
       "      <th>BorrowerAPR</th>\n",
       "      <th>BorrowerRate</th>\n",
       "      <th>LenderYield</th>\n",
       "      <th>ProsperRating (Alpha)</th>\n",
       "      <th>ProsperScore</th>\n",
       "      <th>ListingCategory (numeric)</th>\n",
       "      <th>...</th>\n",
       "      <th>EmploymentStatus</th>\n",
       "      <th>AmountDelinquent</th>\n",
       "      <th>IncomeRange</th>\n",
       "      <th>StatedMonthlyIncome</th>\n",
       "      <th>LoanCurrentDaysDelinquent</th>\n",
       "      <th>LoanOriginalAmount</th>\n",
       "      <th>LoanOriginationDate</th>\n",
       "      <th>MonthlyLoanPayment</th>\n",
       "      <th>LP_ServiceFees</th>\n",
       "      <th>Investors</th>\n",
       "    </tr>\n",
       "  </thead>\n",
       "  <tbody>\n",
       "    <tr>\n",
       "      <th>0</th>\n",
       "      <td>2007-08-26 19:09:29.263000000</td>\n",
       "      <td>36</td>\n",
       "      <td>Completed</td>\n",
       "      <td>2009-08-14 00:00:00</td>\n",
       "      <td>0.16516</td>\n",
       "      <td>0.1580</td>\n",
       "      <td>0.1380</td>\n",
       "      <td>NaN</td>\n",
       "      <td>NaN</td>\n",
       "      <td>0</td>\n",
       "      <td>...</td>\n",
       "      <td>Self-employed</td>\n",
       "      <td>472.0</td>\n",
       "      <td>$25,000-49,999</td>\n",
       "      <td>3083.333333</td>\n",
       "      <td>0</td>\n",
       "      <td>9425</td>\n",
       "      <td>2007-09-12 00:00:00</td>\n",
       "      <td>330.43</td>\n",
       "      <td>-133.18</td>\n",
       "      <td>258</td>\n",
       "    </tr>\n",
       "    <tr>\n",
       "      <th>1</th>\n",
       "      <td>2014-02-27 08:28:07.900000000</td>\n",
       "      <td>36</td>\n",
       "      <td>Current</td>\n",
       "      <td>NaN</td>\n",
       "      <td>0.12016</td>\n",
       "      <td>0.0920</td>\n",
       "      <td>0.0820</td>\n",
       "      <td>A</td>\n",
       "      <td>7.0</td>\n",
       "      <td>2</td>\n",
       "      <td>...</td>\n",
       "      <td>Employed</td>\n",
       "      <td>0.0</td>\n",
       "      <td>$50,000-74,999</td>\n",
       "      <td>6125.000000</td>\n",
       "      <td>0</td>\n",
       "      <td>10000</td>\n",
       "      <td>2014-03-03 00:00:00</td>\n",
       "      <td>318.93</td>\n",
       "      <td>0.00</td>\n",
       "      <td>1</td>\n",
       "    </tr>\n",
       "    <tr>\n",
       "      <th>2</th>\n",
       "      <td>2007-01-05 15:00:47.090000000</td>\n",
       "      <td>36</td>\n",
       "      <td>Completed</td>\n",
       "      <td>2009-12-17 00:00:00</td>\n",
       "      <td>0.28269</td>\n",
       "      <td>0.2750</td>\n",
       "      <td>0.2400</td>\n",
       "      <td>NaN</td>\n",
       "      <td>NaN</td>\n",
       "      <td>0</td>\n",
       "      <td>...</td>\n",
       "      <td>Not available</td>\n",
       "      <td>NaN</td>\n",
       "      <td>Not displayed</td>\n",
       "      <td>2083.333333</td>\n",
       "      <td>0</td>\n",
       "      <td>3001</td>\n",
       "      <td>2007-01-17 00:00:00</td>\n",
       "      <td>123.32</td>\n",
       "      <td>-24.20</td>\n",
       "      <td>41</td>\n",
       "    </tr>\n",
       "    <tr>\n",
       "      <th>3</th>\n",
       "      <td>2012-10-22 11:02:35.010000000</td>\n",
       "      <td>36</td>\n",
       "      <td>Current</td>\n",
       "      <td>NaN</td>\n",
       "      <td>0.12528</td>\n",
       "      <td>0.0974</td>\n",
       "      <td>0.0874</td>\n",
       "      <td>A</td>\n",
       "      <td>9.0</td>\n",
       "      <td>16</td>\n",
       "      <td>...</td>\n",
       "      <td>Employed</td>\n",
       "      <td>10056.0</td>\n",
       "      <td>$25,000-49,999</td>\n",
       "      <td>2875.000000</td>\n",
       "      <td>0</td>\n",
       "      <td>10000</td>\n",
       "      <td>2012-11-01 00:00:00</td>\n",
       "      <td>321.45</td>\n",
       "      <td>-108.01</td>\n",
       "      <td>158</td>\n",
       "    </tr>\n",
       "    <tr>\n",
       "      <th>4</th>\n",
       "      <td>2013-09-14 18:38:39.097000000</td>\n",
       "      <td>36</td>\n",
       "      <td>Current</td>\n",
       "      <td>NaN</td>\n",
       "      <td>0.24614</td>\n",
       "      <td>0.2085</td>\n",
       "      <td>0.1985</td>\n",
       "      <td>D</td>\n",
       "      <td>4.0</td>\n",
       "      <td>2</td>\n",
       "      <td>...</td>\n",
       "      <td>Employed</td>\n",
       "      <td>0.0</td>\n",
       "      <td>$100,000+</td>\n",
       "      <td>9583.333333</td>\n",
       "      <td>0</td>\n",
       "      <td>15000</td>\n",
       "      <td>2013-09-20 00:00:00</td>\n",
       "      <td>563.97</td>\n",
       "      <td>-60.27</td>\n",
       "      <td>20</td>\n",
       "    </tr>\n",
       "  </tbody>\n",
       "</table>\n",
       "<p>5 rows × 22 columns</p>\n",
       "</div>"
      ],
      "text/plain": [
       "             ListingCreationDate  Term LoanStatus           ClosedDate  \\\n",
       "0  2007-08-26 19:09:29.263000000    36  Completed  2009-08-14 00:00:00   \n",
       "1  2014-02-27 08:28:07.900000000    36    Current                  NaN   \n",
       "2  2007-01-05 15:00:47.090000000    36  Completed  2009-12-17 00:00:00   \n",
       "3  2012-10-22 11:02:35.010000000    36    Current                  NaN   \n",
       "4  2013-09-14 18:38:39.097000000    36    Current                  NaN   \n",
       "\n",
       "   BorrowerAPR  BorrowerRate  LenderYield ProsperRating (Alpha)  ProsperScore  \\\n",
       "0      0.16516        0.1580       0.1380                   NaN           NaN   \n",
       "1      0.12016        0.0920       0.0820                     A           7.0   \n",
       "2      0.28269        0.2750       0.2400                   NaN           NaN   \n",
       "3      0.12528        0.0974       0.0874                     A           9.0   \n",
       "4      0.24614        0.2085       0.1985                     D           4.0   \n",
       "\n",
       "   ListingCategory (numeric)    ...     EmploymentStatus AmountDelinquent  \\\n",
       "0                          0    ...        Self-employed            472.0   \n",
       "1                          2    ...             Employed              0.0   \n",
       "2                          0    ...        Not available              NaN   \n",
       "3                         16    ...             Employed          10056.0   \n",
       "4                          2    ...             Employed              0.0   \n",
       "\n",
       "      IncomeRange  StatedMonthlyIncome LoanCurrentDaysDelinquent  \\\n",
       "0  $25,000-49,999          3083.333333                         0   \n",
       "1  $50,000-74,999          6125.000000                         0   \n",
       "2   Not displayed          2083.333333                         0   \n",
       "3  $25,000-49,999          2875.000000                         0   \n",
       "4       $100,000+          9583.333333                         0   \n",
       "\n",
       "   LoanOriginalAmount  LoanOriginationDate  MonthlyLoanPayment LP_ServiceFees  \\\n",
       "0                9425  2007-09-12 00:00:00              330.43        -133.18   \n",
       "1               10000  2014-03-03 00:00:00              318.93           0.00   \n",
       "2                3001  2007-01-17 00:00:00              123.32         -24.20   \n",
       "3               10000  2012-11-01 00:00:00              321.45        -108.01   \n",
       "4               15000  2013-09-20 00:00:00              563.97         -60.27   \n",
       "\n",
       "   Investors  \n",
       "0        258  \n",
       "1          1  \n",
       "2         41  \n",
       "3        158  \n",
       "4         20  \n",
       "\n",
       "[5 rows x 22 columns]"
      ]
     },
     "execution_count": 32,
     "metadata": {},
     "output_type": "execute_result"
    }
   ],
   "source": [
    "df_loans.head()"
   ]
  },
  {
   "cell_type": "code",
   "execution_count": 33,
   "metadata": {
    "scrolled": true
   },
   "outputs": [
    {
     "name": "stdout",
     "output_type": "stream",
     "text": [
      "<class 'pandas.core.frame.DataFrame'>\n",
      "RangeIndex: 11050 entries, 0 to 11049\n",
      "Data columns (total 22 columns):\n",
      "ListingCreationDate          11050 non-null datetime64[ns]\n",
      "Term                         11050 non-null int64\n",
      "LoanStatus                   11050 non-null object\n",
      "ClosedDate                   5324 non-null datetime64[ns]\n",
      "BorrowerAPR                  11049 non-null float64\n",
      "BorrowerRate                 11050 non-null float64\n",
      "LenderYield                  11050 non-null float64\n",
      "ProsperRating (Alpha)        8264 non-null object\n",
      "ProsperScore                 8264 non-null float64\n",
      "ListingCategory (numeric)    11050 non-null int64\n",
      "BorrowerState                10523 non-null object\n",
      "Occupation                   10686 non-null object\n",
      "EmploymentStatus             10826 non-null object\n",
      "AmountDelinquent             10328 non-null float64\n",
      "IncomeRange                  11050 non-null object\n",
      "StatedMonthlyIncome          11050 non-null float64\n",
      "LoanCurrentDaysDelinquent    11050 non-null int64\n",
      "LoanOriginalAmount           11050 non-null int64\n",
      "LoanOriginationDate          11050 non-null datetime64[ns]\n",
      "MonthlyLoanPayment           11050 non-null float64\n",
      "LP_ServiceFees               11050 non-null float64\n",
      "Investors                    11050 non-null int64\n",
      "dtypes: datetime64[ns](3), float64(8), int64(5), object(6)\n",
      "memory usage: 1.9+ MB\n"
     ]
    }
   ],
   "source": [
    "#Adjust Datetime columns\n",
    "df_loans['ListingCreationDate'] = pd.to_datetime(df_loans['ListingCreationDate']) \n",
    "df_loans['ClosedDate'] = pd.to_datetime(df_loans['ClosedDate'])\n",
    "df_loans['LoanOriginationDate'] = pd.to_datetime(df_loans['LoanOriginationDate'])\n",
    "df_loans.info()"
   ]
  },
  {
   "cell_type": "code",
   "execution_count": 35,
   "metadata": {
    "scrolled": true
   },
   "outputs": [
    {
     "data": {
      "text/plain": [
       "C      1786\n",
       "B      1569\n",
       "A      1424\n",
       "D      1387\n",
       "E       934\n",
       "HR      657\n",
       "AA      507\n",
       "N/A       0\n",
       "Name: ProsperRating (Alpha), dtype: int64"
      ]
     },
     "execution_count": 35,
     "metadata": {},
     "output_type": "execute_result"
    }
   ],
   "source": [
    "# Convert ProsperRating & IncomeRange to ordinal categorical \n",
    "ordinal_var_dict = {'ProsperRating (Alpha)': ['N/A','HR','E','D','C', 'B', 'A', 'AA'],\n",
    "                    'IncomeRange':['$0','$1-24,999','$25,000-49,999','$50,000-74,999','$75,000-99,999','$100,000+']}\n",
    "for var in ordinal_var_dict:\n",
    "    ordered_var = pd.api.types.CategoricalDtype(ordered = True, categories = ordinal_var_dict[var])\n",
    "    df_loans[var] = df_loans[var].astype(ordered_var)\n",
    "\n",
    "df_loans['ProsperRating (Alpha)'].value_counts()"
   ]
  },
  {
   "cell_type": "code",
   "execution_count": 36,
   "metadata": {},
   "outputs": [
    {
     "data": {
      "text/plain": [
       "$25,000-49,999    3102\n",
       "$50,000-74,999    3090\n",
       "$100,000+         1674\n",
       "$75,000-99,999    1622\n",
       "$1-24,999          691\n",
       "$0                  57\n",
       "Name: IncomeRange, dtype: int64"
      ]
     },
     "execution_count": 36,
     "metadata": {},
     "output_type": "execute_result"
    }
   ],
   "source": [
    "df_loans['IncomeRange'].value_counts()"
   ]
  },
  {
   "cell_type": "code",
   "execution_count": 37,
   "metadata": {},
   "outputs": [],
   "source": [
    "#Adjust datatype for all other categorical columns\n",
    "df_loans['Occupation'] = df_loans['Occupation'].astype('category')\n",
    "df_loans['BorrowerState'] = df_loans['BorrowerState'].astype('category')\n",
    "df_loans['LoanStatus'] = df_loans['LoanStatus'].astype('category')\n",
    "df_loans['ListingCategory (numeric)'] = df_loans['ListingCategory (numeric)'].astype('category')\n",
    "df_loans['EmploymentStatus'] = df_loans['EmploymentStatus'].astype('category')"
   ]
  },
  {
   "cell_type": "code",
   "execution_count": 38,
   "metadata": {
    "scrolled": true
   },
   "outputs": [
    {
     "data": {
      "text/plain": [
       "Other                                 2741\n",
       "Professional                          1256\n",
       "Computer Programmer                    431\n",
       "Executive                              418\n",
       "Teacher                                376\n",
       "Analyst                                355\n",
       "Administrative Assistant               351\n",
       "Sales - Commission                     333\n",
       "Accountant/CPA                         303\n",
       "Clerical                               302\n",
       "Skilled Labor                          287\n",
       "Sales - Retail                         287\n",
       "Retail Management                      266\n",
       "Nurse (RN)                             235\n",
       "Truck Driver                           197\n",
       "Construction                           183\n",
       "Engineer - Mechanical                  155\n",
       "Police Officer/Correction Officer      151\n",
       "Laborer                                147\n",
       "Civil Service                          145\n",
       "Military Enlisted                      120\n",
       "Food Service                           112\n",
       "Food Service Management                105\n",
       "Tradesman - Mechanic                   104\n",
       "Medical Technician                     103\n",
       "Engineer - Electrical                  101\n",
       "Attorney                                98\n",
       "Social Worker                           70\n",
       "Nurse (LPN)                             66\n",
       "Professor                               61\n",
       "                                      ... \n",
       "Waiter/Waitress                         36\n",
       "Bus Driver                              34\n",
       "Military Officer                        32\n",
       "Principal                               31\n",
       "Teacher's Aide                          28\n",
       "Landscaping                             26\n",
       "Pharmacist                              25\n",
       "Investor                                20\n",
       "Student - College Graduate Student      20\n",
       "Architect                               19\n",
       "Pilot - Private/Commercial              19\n",
       "Student - College Senior                19\n",
       "Tradesman - Carpenter                   18\n",
       "Flight Attendant                        16\n",
       "Engineer - Chemical                     16\n",
       "Clergy                                  15\n",
       "Biologist                               14\n",
       "Religious                               14\n",
       "Chemist                                 13\n",
       "Psychologist                            13\n",
       "Car Dealer                              12\n",
       "Homemaker                                9\n",
       "Student - College Junior                 8\n",
       "Dentist                                  6\n",
       "Tradesman - Plumber                      5\n",
       "Student - College Freshman               5\n",
       "Student - Community College              3\n",
       "Student - College Sophomore              3\n",
       "Student - Technical School               1\n",
       "Judge                                    1\n",
       "Name: Occupation, Length: 67, dtype: int64"
      ]
     },
     "execution_count": 38,
     "metadata": {},
     "output_type": "execute_result"
    }
   ],
   "source": [
    "df_loans['Occupation'].value_counts()"
   ]
  },
  {
   "cell_type": "code",
   "execution_count": 39,
   "metadata": {},
   "outputs": [
    {
     "name": "stdout",
     "output_type": "stream",
     "text": [
      "<class 'pandas.core.frame.DataFrame'>\n",
      "RangeIndex: 11050 entries, 0 to 11049\n",
      "Data columns (total 22 columns):\n",
      "ListingCreationDate          11050 non-null datetime64[ns]\n",
      "Term                         11050 non-null int64\n",
      "LoanStatus                   11050 non-null category\n",
      "ClosedDate                   5324 non-null datetime64[ns]\n",
      "BorrowerAPR                  11049 non-null float64\n",
      "BorrowerRate                 11050 non-null float64\n",
      "LenderYield                  11050 non-null float64\n",
      "ProsperRating (Alpha)        8264 non-null category\n",
      "ProsperScore                 8264 non-null float64\n",
      "ListingCategory (numeric)    11050 non-null category\n",
      "BorrowerState                10523 non-null category\n",
      "Occupation                   10686 non-null category\n",
      "EmploymentStatus             10826 non-null category\n",
      "AmountDelinquent             10328 non-null float64\n",
      "IncomeRange                  10236 non-null category\n",
      "StatedMonthlyIncome          11050 non-null float64\n",
      "LoanCurrentDaysDelinquent    11050 non-null int64\n",
      "LoanOriginalAmount           11050 non-null int64\n",
      "LoanOriginationDate          11050 non-null datetime64[ns]\n",
      "MonthlyLoanPayment           11050 non-null float64\n",
      "LP_ServiceFees               11050 non-null float64\n",
      "Investors                    11050 non-null int64\n",
      "dtypes: category(7), datetime64[ns](3), float64(8), int64(4)\n",
      "memory usage: 1.3 MB\n"
     ]
    }
   ],
   "source": [
    "df_loans.info()"
   ]
  },
  {
   "cell_type": "markdown",
   "metadata": {},
   "source": [
    "### What is the structure of your dataset?\n",
    "\n",
    "The dataset contains 113937 rows and 22 columns. Most of the columns are numeric but we also have categorical variables(both ordinal and nominal) and datetime variables.\n",
    "\n",
    "### What is/are the main feature(s) of interest in your dataset?\n",
    "\n",
    "I will work with Borrower Rate, Borrower APR, Prosper Score, Credit Score, Original Loan Amount, Monthly Payment, Borrower Occupation, Borrower State and others if needed.\n",
    "\n",
    "There are some important features to look at including:\n",
    "\n",
    "    * BorrowerAPR: The Borrower's Annual Percentage Rate (APR) for the loan.\n",
    "    * ProsperScore: A custom risk score built using historical Prosper data. The score ranges from 1-10, with 10 being the best,or - lowest risk score. Applicable for loans originated after July 2009.\n",
    "    * LoanOriginationDate: The date the loan was originated.\n",
    "    * LenderYield: The Lender yield on the loan. Lender yield is equal to the interest rate on the loan less the servicing fee.\n",
    "\n",
    "### What features in the dataset do you think will help support your investigation into your feature(s) of interest?\n",
    "\n",
    "I think that Loan Status and Employment Status will have a strong impact on loan and the features we are trying to explor. Also the Monthly Income will play a role here and the Term (lenght of the loan) may have an effect. SO I will try to invistigate these more."
   ]
  },
  {
   "cell_type": "markdown",
   "metadata": {},
   "source": [
    "## Univariate Exploration\n",
    "\n",
    "> In this section, investigate distributions of individual variables. If\n",
    "you see unusual points or outliers, take a deeper look to clean things up\n",
    "and prepare yourself to look at relationships between variables.\n",
    "\n",
    "\n",
    "> **Rubric Tip**: The project (Parts I alone) should have at least 15 visualizations distributed over univariate, bivariate, and multivariate plots to explore many relationships in the data set.  Use reasoning to justify the flow of the exploration.\n",
    "\n",
    "\n",
    "\n",
    ">**Rubric Tip**: Use the \"Question-Visualization-Observations\" framework  throughout the exploration. This framework involves **asking a question from the data, creating a visualization to find answers, and then recording observations after each visualisation.** \n"
   ]
  },
  {
   "cell_type": "code",
   "execution_count": null,
   "metadata": {},
   "outputs": [],
   "source": []
  },
  {
   "cell_type": "markdown",
   "metadata": {},
   "source": [
    "\n",
    "\n",
    ">**Rubric Tip**: Visualizations should depict the data appropriately so that the plots are easily interpretable. You should choose an appropriate plot type, data encodings, and formatting as needed. The formatting may include setting/adding the title, labels, legend, and comments. Also, do not overplot or incorrectly plot ordinal data."
   ]
  },
  {
   "cell_type": "code",
   "execution_count": null,
   "metadata": {},
   "outputs": [],
   "source": []
  },
  {
   "cell_type": "markdown",
   "metadata": {},
   "source": [
    "### Discuss the distribution(s) of your variable(s) of interest. Were there any unusual points? Did you need to perform any transformations?\n",
    "\n",
    "> Your answer here!\n",
    "\n",
    "### Of the features you investigated, were there any unusual distributions? Did you perform any operations on the data to tidy, adjust, or change the form of the data? If so, why did you do this?\n",
    "\n",
    "> Your answer here!"
   ]
  },
  {
   "cell_type": "markdown",
   "metadata": {},
   "source": [
    "## Bivariate Exploration\n",
    "\n",
    "> In this section, investigate relationships between pairs of variables in your\n",
    "data. Make sure the variables that you cover here have been introduced in some\n",
    "fashion in the previous section (univariate exploration)."
   ]
  },
  {
   "cell_type": "code",
   "execution_count": null,
   "metadata": {},
   "outputs": [],
   "source": []
  },
  {
   "cell_type": "markdown",
   "metadata": {},
   "source": [
    "### Talk about some of the relationships you observed in this part of the investigation. How did the feature(s) of interest vary with other features in the dataset?\n",
    "\n",
    "> Your answer here!\n",
    "\n",
    "### Did you observe any interesting relationships between the other features (not the main feature(s) of interest)?\n",
    "\n",
    "> Your answer here!"
   ]
  },
  {
   "cell_type": "markdown",
   "metadata": {},
   "source": [
    "## Multivariate Exploration\n",
    "\n",
    "> Create plots of three or more variables to investigate your data even\n",
    "further. Make sure that your investigations are justified, and follow from\n",
    "your work in the previous sections."
   ]
  },
  {
   "cell_type": "code",
   "execution_count": null,
   "metadata": {},
   "outputs": [],
   "source": []
  },
  {
   "cell_type": "markdown",
   "metadata": {},
   "source": [
    "### Talk about some of the relationships you observed in this part of the investigation. Were there features that strengthened each other in terms of looking at your feature(s) of interest?\n",
    "\n",
    "> Your answer here!\n",
    "\n",
    "### Were there any interesting or surprising interactions between features?\n",
    "\n",
    "> Your answer here!"
   ]
  },
  {
   "cell_type": "markdown",
   "metadata": {},
   "source": [
    "## Conclusions\n",
    ">You can write a summary of the main findings and reflect on the steps taken during the data exploration.\n"
   ]
  },
  {
   "cell_type": "markdown",
   "metadata": {},
   "source": [
    "\n",
    "> Remove all Tips mentioned above, before you convert this notebook to PDF/HTML\n",
    "\n",
    "\n",
    "> At the end of your report, make sure that you export the notebook as an\n",
    "html file from the `File > Download as... > HTML or PDF` menu. Make sure you keep\n",
    "track of where the exported file goes, so you can put it in the same folder\n",
    "as this notebook for project submission. Also, make sure you remove all of\n",
    "the quote-formatted guide notes like this one before you finish your report!\n",
    "\n"
   ]
  },
  {
   "cell_type": "code",
   "execution_count": null,
   "metadata": {},
   "outputs": [],
   "source": []
  }
 ],
 "metadata": {
  "kernelspec": {
   "display_name": "Python 3",
   "language": "python",
   "name": "python3"
  },
  "language_info": {
   "codemirror_mode": {
    "name": "ipython",
    "version": 3
   },
   "file_extension": ".py",
   "mimetype": "text/x-python",
   "name": "python",
   "nbconvert_exporter": "python",
   "pygments_lexer": "ipython3",
   "version": "3.6.3"
  }
 },
 "nbformat": 4,
 "nbformat_minor": 2
}
